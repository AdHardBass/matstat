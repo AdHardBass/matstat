{
 "cells": [
  {
   "cell_type": "code",
   "execution_count": 5,
   "metadata": {},
   "outputs": [],
   "source": [
    "import numpy\n",
    "import math\n",
    "import matplotlib.pyplot as plt"
   ]
  },
  {
   "cell_type": "code",
   "execution_count": 67,
   "metadata": {},
   "outputs": [
    {
     "data": {
      "text/plain": [
       "99.78174058563948"
      ]
     },
     "execution_count": 67,
     "metadata": {},
     "output_type": "execute_result"
    }
   ],
   "source": [
    "A = 100\n",
    "N = 100\n",
    "B = 0.95\n",
    "K = 1000 #Количество выборок с возвращением\n",
    "\n",
    "arr = numpy.random.rand(N) * A\n",
    "#arr"
   ]
  },
  {
   "cell_type": "code",
   "execution_count": 60,
   "metadata": {},
   "outputs": [
    {
     "name": "stdout",
     "output_type": "stream",
     "text": [
      "B = 0.95\n",
      "Точный доверительный интервал: 99.53018197427964 < A < 103.24414787453658\n",
      "Dl = 3.7139659002569374\n"
     ]
    }
   ],
   "source": [
    "print(\"B = {}\".format(B))\n",
    "print(\"Точный доверительный интервал: {} < A < {}\".format(arr.max()/((1+B)/2)**(1/N), \n",
    "                                                          arr.max()/((1-B)/2)**(1/N)))\n",
    "print(\"Dl = {}\".format( arr.max()/( (1-B)/2 )**(1/N) - arr.max()/( (1+B)/2 )**(1/N)) )"
   ]
  },
  {
   "cell_type": "code",
   "execution_count": 61,
   "metadata": {},
   "outputs": [],
   "source": [
    "def getSubsample(arr, N):\n",
    "    res = numpy.empty(N)\n",
    "    for i in range(N):\n",
    "        res[i] = arr[numpy.random.randint(0, N)]\n",
    "    return res"
   ]
  },
  {
   "cell_type": "code",
   "execution_count": 62,
   "metadata": {},
   "outputs": [],
   "source": [
    "def est(arr, N):\n",
    "    return (N + 1) * arr.max() / N"
   ]
  },
  {
   "cell_type": "code",
   "execution_count": 63,
   "metadata": {},
   "outputs": [],
   "source": [
    "A_est = est(arr, N)"
   ]
  },
  {
   "cell_type": "code",
   "execution_count": 64,
   "metadata": {},
   "outputs": [],
   "source": [
    "arr_bootstrap = numpy.array([getSubsample(arr, N) for i in range(K)])\n",
    "#arr_bootstrap"
   ]
  },
  {
   "cell_type": "code",
   "execution_count": 65,
   "metadata": {},
   "outputs": [],
   "source": [
    "arr_estimates = numpy.array([est(arr_bootstrap[i], N) for i in range(K) ])#K выборок по N максимума с учетом смещения\n",
    "arr_estimates = abs(A_est - arr_estimates) #массив различия смещенных оценок выборок от главной оценки\n",
    "arr_estimates.sort()\n",
    "#arr_estimates"
   ]
  },
  {
   "cell_type": "code",
   "execution_count": 69,
   "metadata": {},
   "outputs": [
    {
     "data": {
      "image/png": "[encoded data removed]",
      "text/plain": [
       "<Figure size 432x288 with 1 Axes>"
      ]
     },
     "metadata": {
      "needs_background": "light"
     },
     "output_type": "display_data"
    },
    {
     "name": "stdout",
     "output_type": "stream",
     "text": [
      "Доверительный интервал методом бутстреп: 99.76425711071064 < A < 101.23581522246306\n",
      "Dl = 1.4715581117524152\n"
     ]
    }
   ],
   "source": [
    "plt.hist(arr_estimates, density = True)\n",
    "plt.xlabel('|A* - A_est|')\n",
    "plt.ylabel('probability density')\n",
    "plt.show()\n",
    "#необходим крайний элемент, который находится на месте = 0.95 * K\n",
    "print('Доверительный интервал методом бутстреп: {} < A < {}'.format(A_est - arr_estimates[int(K * B)], \n",
    "                                                                    A_est + arr_estimates[int(K * B)]))\n",
    "print('Dl = {}'.format(2 * arr_estimates[int(K * B)]))"
   ]
  },
  {
   "cell_type": "code",
   "execution_count": null,
   "metadata": {},
   "outputs": [],
   "source": []
  }
 ],
 "metadata": {
  "kernelspec": {
   "display_name": "Python 3",
   "language": "python",
   "name": "python3"
  },
  "language_info": {
   "codemirror_mode": {
    "name": "ipython",
    "version": 3
   },
   "file_extension": ".py",
   "mimetype": "text/x-python",
   "name": "python",
   "nbconvert_exporter": "python",
   "pygments_lexer": "ipython3",
   "version": "3.7.3"
  }
 },
 "nbformat": 4,
 "nbformat_minor": 2
}
