{
 "cells": [
  {
   "cell_type": "code",
   "execution_count": 10,
   "metadata": {},
   "outputs": [],
   "source": [
    "import numpy\n",
    "import math\n",
    "import matplotlib.pyplot as plt"
   ]
  },
  {
   "cell_type": "code",
   "execution_count": 11,
   "metadata": {},
   "outputs": [],
   "source": [
    "A = 3 #параметр\n",
    "N = 100\n",
    "B = 0.95\n",
    "K = 100000 #Количество выборок с возвращением\n",
    "\n",
    "arr = np.random.pareto(A - 1, N) + 1 #выборка"
   ]
  },
  {
   "cell_type": "code",
   "execution_count": 12,
   "metadata": {},
   "outputs": [
    {
     "name": "stdout",
     "output_type": "stream",
     "text": [
      "Оценка параметра A: 2.6886240214899706 \n",
      "\n"
     ]
    }
   ],
   "source": [
    "def est(arr):\n",
    "    res = 1\n",
    "    prod = 1\n",
    "    for i in arr:\n",
    "        prod += math.log(i)\n",
    "    res = 1 + len(arr)/(prod)\n",
    "    return res\n",
    "\n",
    "A_est = est(arr)\n",
    "\n",
    "print(\"Оценка параметра A: {} \\n\".format(est(arr)))"
   ]
  },
  {
   "cell_type": "code",
   "execution_count": 14,
   "metadata": {},
   "outputs": [],
   "source": [
    "def getSubsample(arr):\n",
    "    res = numpy.empty(len(arr))\n",
    "    for i in range(len(arr)):\n",
    "        res[i] = arr[numpy.random.randint(0, len(arr))]\n",
    "    return res\n",
    "\n",
    "arr_bootstrap = numpy.array([getSubsample(arr) for i in range(K)])\n",
    "\n",
    "arr_estimates = numpy.array([est(arr_bootstrap[i]) for i in range(K) ])\n",
    "\n",
    "arr_estimates = abs(A_est - arr_estimates)\n",
    "\n",
    "arr_estimates.sort()"
   ]
  },
  {
   "cell_type": "code",
   "execution_count": 15,
   "metadata": {},
   "outputs": [
    {
     "data": {
      "image/png": "[encoded data removed]",
      "text/plain": [
       "<Figure size 432x288 with 1 Axes>"
      ]
     },
     "metadata": {
      "needs_background": "light"
     },
     "output_type": "display_data"
    },
    {
     "name": "stdout",
     "output_type": "stream",
     "text": [
      "Доверительный интервал методом бутстреп: 2.377937769572621 < A < 2.9993102734073203\n",
      "Dl = 0.6213725038346993\n"
     ]
    }
   ],
   "source": [
    "plt.hist(arr_estimates, density = True)\n",
    "plt.xlabel('|A* - A_est|')\n",
    "plt.ylabel('probability density')\n",
    "plt.show()\n",
    "\n",
    "print('Доверительный интервал методом бутстреп: {} < A < {}'.format(A_est - arr_estimates[int(K * B)], \n",
    "                                                                    A_est + arr_estimates[int(K * B)]))\n",
    "print('Dl = {}'.format(2 * arr_estimates[int(K * B)]))"
   ]
  },
  {
   "cell_type": "code",
   "execution_count": null,
   "metadata": {},
   "outputs": [],
   "source": []
  }
 ],
 "metadata": {
  "kernelspec": {
   "display_name": "Python 3",
   "language": "python",
   "name": "python3"
  },
  "language_info": {
   "codemirror_mode": {
    "name": "ipython",
    "version": 3
   },
   "file_extension": ".py",
   "mimetype": "text/x-python",
   "name": "python",
   "nbconvert_exporter": "python",
   "pygments_lexer": "ipython3",
   "version": "3.7.3"
  }
 },
 "nbformat": 4,
 "nbformat_minor": 2
}
